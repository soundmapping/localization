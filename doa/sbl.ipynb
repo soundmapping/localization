{
 "cells": [
  {
   "cell_type": "code",
   "execution_count": 1,
   "metadata": {},
   "outputs": [],
   "source": [
    "# import Pkg\n",
    "# Pkg.add(\"Peaks\")"
   ]
  },
  {
   "cell_type": "code",
   "execution_count": 18,
   "metadata": {},
   "outputs": [
    {
     "name": "stdout",
     "output_type": "stream",
     "text": [
      "sensors Loaded: (8,)\n",
      "sensors1 Loaded: (25,)\n",
      "sensors2 Loaded: (20,)\n",
      "sensors_underwater loaded: (40,)\n"
     ]
    },
    {
     "name": "stdout",
     "output_type": "stream",
     "text": [
      "Start Simulating Signal\n",
      "Signal has size: (320000, 1)\n"
     ]
    },
    {
     "name": "stdout",
     "output_type": "stream",
     "text": [
      "  2.550662 seconds (1.81 M allocations: 1.528 GiB, 6.92% gc time, 42.54% compilation time)\n",
      "Now Generated Signal has size: (320000, 40)\n",
      "Start Simulating Signal\n",
      "Signal has size: (320000, 1)\n"
     ]
    },
    {
     "name": "stdout",
     "output_type": "stream",
     "text": [
      "  1.632204 seconds (180.56 k allocations: 1.453 GiB, 19.98% gc time)\n",
      "Now Generated Signal has size: (320000, 40)\n"
     ]
    }
   ],
   "source": [
    "#=\n",
    "Step 0: Open recording or generate signal\n",
    "=#\n",
    "\n",
    "# To Generate Signal:\n",
    "include(\"../signal_generator/tone.jl\")\n",
    "include(\"../sensor.jl\")\n",
    "\n",
    "freq = 50;          # Frequency of Tone (in Hz)\n",
    "amp = 1;            # Amplitude of Tone\n",
    "duration = 10;       # Duration of Tone (in seconds)\n",
    "sample_rate = 32000.0;\n",
    "tone_sig, n = tone(duration, amp, freq, sample_rate);\n",
    "\n",
    "include(\"../signal_generator/generate_sig.jl\")\n",
    "using DSP.Windows: hanning, rect, bartlett\n",
    "az_gt = -90;        # Ground Truth Azimuth Angle (in degrees)\n",
    "az_gt2 = 120;\n",
    "c0 = 1500;          # Speed of Medium (in m/s)\n",
    "NFFT = 2^11;\n",
    "noverlap = Int(NFFT * (3 // 4));\n",
    "sig1, sample_rate = simulate_sensor_signal(tone_sig, sample_rate, sensors_underwater,\n",
    "                         NFFT, noverlap, hanning, az_gt, c0);\n",
    "sig2, sample_rate = simulate_sensor_signal(tone_sig, sample_rate, sensors_underwater, \n",
    "                        NFFT, noverlap, hanning, az_gt2, c0); \n",
    "new_sig = sig1;"
   ]
  },
  {
   "cell_type": "code",
   "execution_count": 19,
   "metadata": {},
   "outputs": [],
   "source": [
    "include(\"../utils/preprocess.jl\")\n",
    "function filter_freq_per_ch(new_sig)\n",
    "    new_S = []\n",
    "    for sig in eachcol(new_sig)\n",
    "        S_interest = choose_freq(sig, freq, sample_rate);\n",
    "        push!(new_S, S_interest);\n",
    "    end\n",
    "    # test_sig = Matrix{}(undef, size(new_sig, 2)) \n",
    "    new_S = mapreduce(permutedims, vcat, new_S);\n",
    "    return new_S\n",
    "end\n",
    "\n",
    "new_S = filter_freq_per_ch(new_sig);"
   ]
  },
  {
   "cell_type": "code",
   "execution_count": 20,
   "metadata": {},
   "outputs": [
    {
     "data": {
      "text/plain": [
       "40×40 Matrix{ComplexF64}:\n",
       "  9.1403e5+0.0im           9.1403e5-4.74748e-13im  …  8.98298e5-1.80951e5im\n",
       "  9.1403e5+4.74748e-13im   9.1403e5+0.0im             8.98298e5-1.80951e5im\n",
       "  9.1403e5+4.74748e-13im   9.1403e5+4.74748e-13im     8.98298e5-1.80951e5im\n",
       "  9.1403e5+4.74748e-13im   9.1403e5+4.74748e-13im     8.98298e5-1.80951e5im\n",
       "  9.1403e5+4.74748e-13im   9.1403e5+4.74748e-13im     8.98298e5-1.80951e5im\n",
       " 9.10802e5+91194.0im      9.10802e5+91194.0im      …  9.13255e5-90688.0im\n",
       "  9.0783e5-90896.3im       9.0783e5-90896.3im         8.74135e5-2.69056e5im\n",
       " 8.92468e5-1.79776e5im    8.92468e5-1.79776e5im       8.41368e5-3.53365e5im\n",
       " 9.07875e5-90517.5im      9.07875e5-90517.5im         8.74255e5-2.68692e5im\n",
       " 8.92468e5-1.79776e5im    8.92468e5-1.79776e5im       8.41368e5-3.53365e5im\n",
       "          ⋮                                        ⋱  \n",
       " 8.70067e5+2.8995e5im     8.70067e5+2.8995e5im        9.12733e5+1.12712e5im\n",
       " 9.10836e5+90812.8im      9.10836e5+90812.8im         9.13212e5-91069.2im\n",
       " 8.98298e5+1.80951e5im    8.98298e5+1.80951e5im       9.18809e5-1.49215e-12im\n",
       " 8.76515e5+2.69468e5im    8.76515e5+2.69468e5im        914998.0+91305.5im\n",
       " 8.45782e5+3.55179e5im    8.45782e5+3.55179e5im    …  9.01833e5+1.81625e5im\n",
       " 8.06299e5+4.37488e5im    8.06299e5+4.37488e5im       8.79392e5+2.70335e5im\n",
       "   8.586e5+3.2271e5im       8.586e5+3.2271e5im        9.07976e5+1.47177e5im\n",
       " 8.76515e5+2.69468e5im    8.76515e5+2.69468e5im        914998.0+91305.5im\n",
       " 8.98298e5+1.80951e5im    8.98298e5+1.80951e5im       9.18809e5+0.0im"
      ]
     },
     "metadata": {},
     "output_type": "display_data"
    }
   ],
   "source": [
    "using Statistics\n",
    "n_snapshots = 128;\n",
    "Sy = cov(new_S[:,1:n_snapshots], dims=2)"
   ]
  },
  {
   "cell_type": "code",
   "execution_count": 21,
   "metadata": {},
   "outputs": [
    {
     "name": "stdout",
     "output_type": "stream",
     "text": [
      "sensors Loaded: (8,)\n",
      "sensors1 Loaded: (25,)\n",
      "sensors2 Loaded: (20,)\n",
      "sensors_underwater loaded: (40,)\n"
     ]
    }
   ],
   "source": [
    "include(\"../sensor.jl\")\n",
    "include(\"./cbf.jl\")\n",
    "using LinearAlgebra"
   ]
  },
  {
   "cell_type": "code",
   "execution_count": 22,
   "metadata": {},
   "outputs": [],
   "source": [
    "az_list = -180:180;\n",
    "num_sensors = length(sensors_underwater);\n",
    "A = Matrix{ComplexF64}(undef, num_sensors, length(az_list))\n",
    "for (sensor_idx, sensor) in enumerate(sensors_underwater)\n",
    "    for (az_idx, az) in enumerate(az_list)\n",
    "        A[sensor_idx, az_idx] = vandermonde_weight(sensor, az, 90, freq, c0);\n",
    "    end\n",
    "end\n"
   ]
  },
  {
   "cell_type": "code",
   "execution_count": 23,
   "metadata": {},
   "outputs": [
    {
     "ename": "ErrorException",
     "evalue": "syntax: incomplete: premature end of input",
     "output_type": "error",
     "traceback": [
      "syntax: incomplete: premature end of input\n",
      "\n",
      "Stacktrace:\n",
      " [1] top-level scope\n",
      "   @ ~/Desktop/SoundMapping/doa_branch/localization/doa/sbl.ipynb:1"
     ]
    }
   ],
   "source": [
    "# function SBL(Sy, A, K=1, ϵ = 0.001, σ_noise = 0.1, max_iter = 500)"
   ]
  },
  {
   "cell_type": "code",
   "execution_count": 24,
   "metadata": {},
   "outputs": [
    {
     "name": "stdout",
     "output_type": "stream",
     "text": [
      "At iter: 1 , Noise Value = 1.0000000000000007 w/ error: 0.9290384467060918\n"
     ]
    },
    {
     "name": "stdout",
     "output_type": "stream",
     "text": [
      "At iter: 2 , Noise Value = 1.0000000000000007 w/ error: 0.9450877038438034\n"
     ]
    },
    {
     "name": "stdout",
     "output_type": "stream",
     "text": [
      "At iter: 3 , Noise Value = 1.0000000000000007 w/ error: 0.6185303896852284\n"
     ]
    },
    {
     "name": "stdout",
     "output_type": "stream",
     "text": [
      "At iter: 4 , Noise Value = 1.0000000000000007 w/ error: 0.5465666655896638\n",
      "At iter: 5 , Noise Value = 1.0000000000000007 w/ error: 0.6050923618644355\n"
     ]
    },
    {
     "name": "stdout",
     "output_type": "stream",
     "text": [
      "At iter: 6 , Noise Value = 1.0000000000000007 w/ error: 0.7462658488887701\n"
     ]
    },
    {
     "name": "stdout",
     "output_type": "stream",
     "text": [
      "At iter: 7 , Noise Value = 1.0000000000000007 w/ error: 0.8622186954156159\n"
     ]
    },
    {
     "name": "stdout",
     "output_type": "stream",
     "text": [
      "At iter: 8 , Noise Value = 1.0000000000000007 w/ error: 0.697128109861458\n"
     ]
    },
    {
     "name": "stdout",
     "output_type": "stream",
     "text": [
      "At iter: 9 , Noise Value = 1.0000000000000007 w/ error: 0.5701611984617779\n"
     ]
    },
    {
     "name": "stdout",
     "output_type": "stream",
     "text": [
      "At iter: 10 , Noise Value = 1.0000000000000007 w/ error: 0.43207275707945025\n"
     ]
    },
    {
     "name": "stdout",
     "output_type": "stream",
     "text": [
      "At iter: 11 , Noise Value = 1.0000000000000007 w/ error: 0.4726743856836332\n"
     ]
    },
    {
     "name": "stdout",
     "output_type": "stream",
     "text": [
      "At iter: 12 , Noise Value = 1.0000000000000007 w/ error: 0.46378002347522473\n"
     ]
    },
    {
     "name": "stdout",
     "output_type": "stream",
     "text": [
      "At iter: 13 , Noise Value = 1.0000000000000007 w/ error: 0.4387112697580493\n"
     ]
    },
    {
     "name": "stdout",
     "output_type": "stream",
     "text": [
      "At iter: 14 , Noise Value = 1.0000000000000007 w/ error: 0.39240408984456204\n"
     ]
    },
    {
     "name": "stdout",
     "output_type": "stream",
     "text": [
      "At iter: 15 , Noise Value = 1.0000000000000007 w/ error: 0.3729131207901882\n"
     ]
    },
    {
     "name": "stdout",
     "output_type": "stream",
     "text": [
      "At iter: 16 , Noise Value = 1.0000000000000007 w/ error: 0.3358564468210663\n"
     ]
    },
    {
     "name": "stdout",
     "output_type": "stream",
     "text": [
      "At iter: 17 , Noise Value = 1.0000000000000007 w/ error: 0.3348621761039315\n"
     ]
    },
    {
     "name": "stdout",
     "output_type": "stream",
     "text": [
      "At iter: 18 , Noise Value = 1.0000000000000007 w/ error: 0.30952687237462145\n"
     ]
    },
    {
     "name": "stdout",
     "output_type": "stream",
     "text": [
      "At iter: 19 , Noise Value = 1.0000000000000007 w/ error: 0.3290352146273295\n"
     ]
    },
    {
     "name": "stdout",
     "output_type": "stream",
     "text": [
      "At iter: 20 , Noise Value = 1.0000000000000007 w/ error: 0.3507795872547996\n"
     ]
    },
    {
     "name": "stdout",
     "output_type": "stream",
     "text": [
      "At iter: 21 , Noise Value = 1.0000000000000007 w/ error: 0.37886319266287427\n"
     ]
    },
    {
     "name": "stdout",
     "output_type": "stream",
     "text": [
      "At iter: 22 , Noise Value = 1.0000000000000007 w/ error: 0.4026753352982588\n"
     ]
    },
    {
     "name": "stdout",
     "output_type": "stream",
     "text": [
      "At iter: 23 , Noise Value = 1.0000000000000007 w/ error: 0.38471850438986277\n"
     ]
    },
    {
     "name": "stdout",
     "output_type": "stream",
     "text": [
      "At iter: 24 , Noise Value = 1.0000000000000007 w/ error: 0.3050815533883142\n"
     ]
    },
    {
     "name": "stdout",
     "output_type": "stream",
     "text": [
      "At iter: 25 , Noise Value = 1.0000000000000007 w/ error: 0.27352077138527725\n"
     ]
    },
    {
     "name": "stdout",
     "output_type": "stream",
     "text": [
      "At iter: 26 , Noise Value = 1.0000000000000007 w/ error: 0.2785305901437504\n"
     ]
    },
    {
     "name": "stdout",
     "output_type": "stream",
     "text": [
      "At iter: 27 , Noise Value = 1.0000000000000007 w/ error: 0.26016409141172764\n"
     ]
    },
    {
     "name": "stdout",
     "output_type": "stream",
     "text": [
      "At iter: 28 , Noise Value = 1.0000000000000007 w/ error: 0.22361685332885434\n"
     ]
    },
    {
     "name": "stdout",
     "output_type": "stream",
     "text": [
      "At iter: 29 , Noise Value = 1.0000000000000007 w/ error: 0.2330083578430532\n"
     ]
    },
    {
     "name": "stdout",
     "output_type": "stream",
     "text": [
      "At iter: 30 , Noise Value = 1.0000000000000007 w/ error: 0.2899838299767531\n"
     ]
    },
    {
     "name": "stdout",
     "output_type": "stream",
     "text": [
      "At iter: 31 , Noise Value = 1.0000000000000007 w/ error: 0.320852256290864\n"
     ]
    },
    {
     "name": "stdout",
     "output_type": "stream",
     "text": [
      "At iter: 32 , Noise Value = 1.0000000000000007 w/ error: 0.30162989149119646\n"
     ]
    },
    {
     "name": "stdout",
     "output_type": "stream",
     "text": [
      "At iter: 33 , Noise Value = 1.0000000000000007 w/ error: 0.24450437704271977\n"
     ]
    },
    {
     "name": "stdout",
     "output_type": "stream",
     "text": [
      "At iter: 34 , Noise Value = 1.0000000000000007 w/ error: 0.15998371761929545\n",
      "At iter: 35 , Noise Value = 1.0000000000000007 w/ error: 0.08975900470360505\n"
     ]
    },
    {
     "name": "stdout",
     "output_type": "stream",
     "text": [
      "At iter: 36 , Noise Value = 1.0000000000000007 w/ error: 0.049229254373820565\n"
     ]
    },
    {
     "name": "stdout",
     "output_type": "stream",
     "text": [
      "At iter: 37 , Noise Value = 1.0000000000000007 w/ error: 0.028500630380664346\n"
     ]
    },
    {
     "name": "stdout",
     "output_type": "stream",
     "text": [
      "At iter: 38 , Noise Value = 1.0000000000000007 w/ error: 0.021505024737611542\n"
     ]
    },
    {
     "name": "stdout",
     "output_type": "stream",
     "text": [
      "At iter: 39 , Noise Value = 1.0000000000000007 w/ error: 0.03227875062671477\n"
     ]
    }
   ],
   "source": [
    "# SBL Algorithm\n",
    "ϵ = 0.001; # Numerical Tolerance of Algorithm\n",
    "γ_collection = Vector{Float64}(undef, length(az_list));\n",
    "max_iter = 500;\n",
    "K = 1;      # Number of Peaks\n",
    "σ_noise = 0.1;\n",
    "num_sensors = size(A, 1);\n",
    "\n",
    "# Initialization\n",
    "γ_collection, ___ = cbf(Sy, sensors_underwater, freq, c0);\n",
    "\n",
    "for iter = 1:max_iter\n",
    "    Γ = diagm(γ_collection);\n",
    "    Σy = σ_noise .* I + A * Γ * A'; # Note: I is the identity Matrix\n",
    "\n",
    "    # Start Finding new Amplitudes\n",
    "    γ_new = Vector{ComplexF64}(undef, length(γ_collection));\n",
    "    for (az_idx, az) in enumerate(az_list)\n",
    "        a = A[:, az_idx];\n",
    "        inv_y = inv(Σy);\n",
    "        numo = tr(Sy * inv_y * a * a' * inv_y); # Is this PSD too by right?\n",
    "        denom = a' * inv_y * a;         # Is this PSD by right?\n",
    "        # println(\"Numerator: $(numo), Denomenator: $(denom)\")\n",
    "        γ_new[az_idx] = γ_collection[az_idx] .* abs(numo) / abs(denom);\n",
    "    end\n",
    "    γ_new = abs.(γ_new);\n",
    "\n",
    "    # Find Peaks & Re-estimate Noise Parameter\n",
    "    ___, az_max_idx = findmax(γ_new); # Technically Find local Peaks\n",
    "    Am = A[:, az_max_idx];\n",
    "    σ_noise = tr(I - Am * pinv(Am)) ./ (num_sensors - K);\n",
    "    σ_noise = abs(σ_noise);\n",
    "\n",
    "    err = norm(γ_new - γ_collection, 1) ./ norm(γ_collection, 1);\n",
    "    println(\"At iter: $iter , Noise Value = $(σ_noise) w/ error: $err\")\n",
    "    # Stopping Criterion\n",
    "    err < ϵ ? break : γ_collection = γ_new;\n",
    "end"
   ]
  },
  {
   "cell_type": "code",
   "execution_count": null,
   "metadata": {},
   "outputs": [],
   "source": [
    "plot(az_list, γ_collection)"
   ]
  },
  {
   "cell_type": "code",
   "execution_count": null,
   "metadata": {},
   "outputs": [],
   "source": [
    "using Plots\n",
    "P_db, az_max = predict_az(γ_collection, az_list);\n",
    "plot(az_list, P_db)"
   ]
  },
  {
   "cell_type": "code",
   "execution_count": null,
   "metadata": {},
   "outputs": [],
   "source": [
    "include(\"./dbf_freeform.jl\")\n",
    "order = 3;\n",
    "ψ_mat = create_ψ_matrix(sensors_underwater, order, freq, c0);\n",
    "v = ones(Rational, 2*order+1); # Weights associated with DBF\n",
    "v .//= size(v,1);\n",
    "sensor_term = ψ_mat' * inv( ψ_mat * ψ_mat' );\n",
    "A = Matrix{ComplexF64}(undef, num_sensors, size(az_list,1))\n",
    "for (idx, az) in enumerate(az_list)\n",
    "    γ = steering_matrix(az, order);\n",
    "    h_dbf = sensor_term * conj(γ) * v;\n",
    "    A[:, idx] = h_dbf\n",
    "end"
   ]
  },
  {
   "cell_type": "code",
   "execution_count": null,
   "metadata": {},
   "outputs": [],
   "source": [
    "# SBL Algorithm\n",
    "ϵ = 0.001; # Numerical Tolerance of Algorithm\n",
    "γ_collection = Vector{Float64}(undef, length(az_list));\n",
    "max_iter = 500;\n",
    "K = 1;      # Number of Peaks\n",
    "σ_noise = 0.1;\n",
    "num_sensors = length(sensors_underwater);\n",
    "\n",
    "# Initialization\n",
    "γ_collection, ___ = dbf_coFree(Sy, sensors_underwater, order, freq, c0);\n",
    "\n",
    "for iter = 1:max_iter\n",
    "    Γ = diagm(γ_collection);\n",
    "    Σy = σ_noise .* I + A * Γ * A'; # Note: I is the identity Matrix\n",
    "\n",
    "    # Start Finding new Amplitudes\n",
    "    γ_new = Vector{ComplexF64}(undef, length(γ_collection));\n",
    "    for (az_idx, az) in enumerate(az_list)\n",
    "        a = A[:, az_idx];\n",
    "        inv_y = inv(Σy);\n",
    "        numo = tr(Sy * inv_y * a * a' * inv_y); # Is this PSD too by right?\n",
    "        denom = a' * inv_y * a;         # Is this PSD by right?\n",
    "        # println(\"Numerator: $(numo), Denomenator: $(denom)\")\n",
    "        γ_new[az_idx] = γ_collection[az_idx] .* abs(numo) / abs(denom);\n",
    "    end\n",
    "    γ_new = abs.(γ_new);\n",
    "\n",
    "    # Find Peaks & Re-estimate Noise Parameter\n",
    "    ___, az_max_idx = findmax(γ_new); # Technically Find local Peaks\n",
    "    Am = A[:, az_max_idx];\n",
    "    σ_noise = tr(I - Am * pinv(Am)) ./ (num_sensors - K);\n",
    "    σ_noise = abs(σ_noise);\n",
    "\n",
    "    err = norm(γ_new - γ_collection, 1) ./ norm(γ_collection, 1);\n",
    "    println(\"At iter: $iter , Noise Value = $(σ_noise) w/ error: $err\")\n",
    "    # Stopping Criterion\n",
    "    err < ϵ ? break : γ_collection = γ_new;\n",
    "end"
   ]
  },
  {
   "cell_type": "code",
   "execution_count": null,
   "metadata": {},
   "outputs": [],
   "source": [
    "plot(az_list, γ_collection)"
   ]
  },
  {
   "cell_type": "code",
   "execution_count": null,
   "metadata": {},
   "outputs": [],
   "source": [
    "using Plots\n",
    "P_db, az_max = predict_az(γ_collection, az_list);\n",
    "plot(az_list, P_db)"
   ]
  },
  {
   "cell_type": "code",
   "execution_count": null,
   "metadata": {},
   "outputs": [],
   "source": [
    "using Peaks\n",
    "findmaxima(γ_new)"
   ]
  },
  {
   "cell_type": "code",
   "execution_count": null,
   "metadata": {},
   "outputs": [],
   "source": []
  }
 ],
 "metadata": {
  "kernelspec": {
   "display_name": "Julia 1.8.5",
   "language": "julia",
   "name": "julia-1.8"
  },
  "language_info": {
   "file_extension": ".jl",
   "mimetype": "application/julia",
   "name": "julia",
   "version": "1.8.5"
  },
  "orig_nbformat": 4
 },
 "nbformat": 4,
 "nbformat_minor": 2
}
