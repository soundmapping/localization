{
 "cells": [
  {
   "cell_type": "code",
   "execution_count": 13,
   "metadata": {},
   "outputs": [
    {
     "name": "stdout",
     "output_type": "stream",
     "text": [
      "Start Simulating Signal\n",
      "Signal has size: (320000, 1)\n"
     ]
    },
    {
     "name": "stdout",
     "output_type": "stream",
     "text": [
      "  1.501132 seconds (404.54 k allocations: 1.463 GiB, 10.73% gc time, 4.37% compilation time)\n",
      "Now Generated Signal has size: (320000, 40)\n",
      "Start Simulating Signal\n",
      "Signal has size: (320000, 1)\n"
     ]
    },
    {
     "name": "stdout",
     "output_type": "stream",
     "text": [
      "  1.419054 seconds (180.56 k allocations: 1.453 GiB, 10.00% gc time)\n",
      "Now Generated Signal has size: (320000, 40)\n"
     ]
    }
   ],
   "source": [
    "#=\n",
    "Step 0: Open recording or generate signal\n",
    "=#\n",
    "\n",
    "# To Generate Signal:\n",
    "include(\"../signal_generator/tone.jl\")\n",
    "\n",
    "freq = 1500;          # Frequency of Tone (in Hz)\n",
    "amp = 1;            # Amplitude of Tone\n",
    "duration = 10;       # Duration of Tone (in seconds)\n",
    "sample_rate = 32000.0;\n",
    "tone_sig, n = tone(duration, amp, freq, sample_rate);\n",
    "\n",
    "include(\"../signal_generator/generate_sig.jl\")\n",
    "using DSP.Windows: hanning, rect, bartlett\n",
    "az_gt = -90;        # Ground Truth Azimuth Angle (in degrees)\n",
    "az_gt2 = 120;\n",
    "c0 = 1500;          # Speed of Medium (in m/s)\n",
    "NFFT = 2^11;\n",
    "noverlap = Int(NFFT * (3 // 4));\n",
    "sig1, sample_rate = simulate_sensor_signal(tone_sig, sample_rate, sensors_underwater,\n",
    "                         NFFT, noverlap, hanning, az_gt, c0);\n",
    "sig2, sample_rate = simulate_sensor_signal(tone_sig, sample_rate, sensors_underwater, \n",
    "                        NFFT, noverlap, hanning, az_gt2, c0); \n",
    "new_sig = sig1;"
   ]
  },
  {
   "cell_type": "code",
   "execution_count": 14,
   "metadata": {},
   "outputs": [],
   "source": [
    "include(\"../utils/preprocess.jl\")\n",
    "function filter_freq_per_ch(new_sig)\n",
    "    new_S = []\n",
    "    for sig in eachcol(new_sig)\n",
    "        S_interest = choose_freq(sig, freq, sample_rate);\n",
    "        push!(new_S, S_interest);\n",
    "    end\n",
    "    # test_sig = Matrix{}(undef, size(new_sig, 2)) \n",
    "    new_S = mapreduce(permutedims, vcat, new_S);\n",
    "    return new_S\n",
    "end\n",
    "\n",
    "new_S = filter_freq_per_ch(new_sig);"
   ]
  },
  {
   "cell_type": "code",
   "execution_count": 16,
   "metadata": {},
   "outputs": [
    {
     "data": {
      "text/plain": [
       "40×40 Matrix{ComplexF64}:\n",
       "  1224.47+0.0im           1224.47-4.31294e-14im  …   1154.69+365.012im\n",
       "  1224.47+4.31294e-14im   1224.47+0.0im              1154.69+365.012im\n",
       "  1224.47+4.31294e-14im   1224.47+4.31294e-14im      1154.69+365.012im\n",
       "  1224.47+4.31294e-14im   1224.47+4.31294e-14im      1154.69+365.012im\n",
       "  1224.47+4.31294e-14im   1224.47+4.31294e-14im      1154.69+365.012im\n",
       "  -1206.0+170.96im        -1206.0+170.96im       …  -1188.24-198.289im\n",
       " -1218.08-172.613im      -1218.08-172.613im         -1097.22-525.887im\n",
       "  1177.96+372.075im       1177.96+372.075im          999.926+702.023im\n",
       " -1215.81-187.837im      -1215.81-187.837im         -1090.53-539.565im\n",
       "  1177.96+372.075im       1177.96+372.075im          999.926+702.023im\n",
       "         ⋮                                       ⋱  \n",
       "  -1167.9-290.748im       -1167.9-290.748im         -1014.68-622.33im\n",
       " -1203.75+186.046im      -1203.75+186.046im         -1190.62-183.393im\n",
       "  1154.69-365.012im       1154.69-365.012im          1197.71+2.40807e-14im\n",
       " -1079.79+531.327im      -1079.79+531.327im         -1176.65+179.167im\n",
       "  976.869-688.922im       976.869-688.922im      …   1126.57-358.462im\n",
       " -856.127+822.071im      -856.127+822.071im          -1052.4+520.017im\n",
       " -226.668-1174.47im      -226.668-1174.47im          136.357-1175.12im\n",
       " -1079.79+531.327im      -1079.79+531.327im         -1176.65+179.167im\n",
       "  1154.69-365.012im       1154.69-365.012im          1197.71+0.0im"
      ]
     },
     "metadata": {},
     "output_type": "display_data"
    }
   ],
   "source": [
    "using Statistics\n",
    "n_snapshots = 128;\n",
    "Sy = cov(new_S[:,1:n_snapshots], dims=2)"
   ]
  },
  {
   "cell_type": "code",
   "execution_count": 15,
   "metadata": {},
   "outputs": [
    {
     "name": "stdout",
     "output_type": "stream",
     "text": [
      "sensors Loaded: (8,)\n",
      "sensors1 Loaded: (25,)\n",
      "sensors2 Loaded: (20,)\n",
      "sensors_underwater loaded: (40,)\n"
     ]
    }
   ],
   "source": [
    "include(\"../sensor.jl\")\n",
    "include(\"./cbf.jl\")\n",
    "using LinearAlgebra"
   ]
  },
  {
   "cell_type": "code",
   "execution_count": 9,
   "metadata": {},
   "outputs": [],
   "source": [
    "az_list = -180:180;\n",
    "num_sensors = length(sensors_underwater);\n",
    "A = Matrix{ComplexF64}(undef, num_sensors, length(az_list))\n",
    "for (sensor_idx, sensor) in enumerate(sensors_underwater)\n",
    "    for (az_idx, az) in enumerate(az_list)\n",
    "        A[sensor_idx, az_idx] = vandermonde_weight(sensor, az, 90, freq, c0);\n",
    "    end\n",
    "end\n"
   ]
  },
  {
   "cell_type": "code",
   "execution_count": null,
   "metadata": {},
   "outputs": [],
   "source": [
    "# function "
   ]
  },
  {
   "cell_type": "code",
   "execution_count": 68,
   "metadata": {},
   "outputs": [
    {
     "name": "stdout",
     "output_type": "stream",
     "text": [
      "At iter: 1 , Noise Value = 1.0000000000000007 w/ error: 0.9881150740103903\n"
     ]
    },
    {
     "name": "stdout",
     "output_type": "stream",
     "text": [
      "At iter: 2 , Noise Value = 1.0000000000000007 w/ error: 0.9914736079626799\n"
     ]
    },
    {
     "name": "stdout",
     "output_type": "stream",
     "text": [
      "At iter: 3 , Noise Value = 1.0000000000000007 w/ error: 0.7133602525951463\n"
     ]
    },
    {
     "name": "stdout",
     "output_type": "stream",
     "text": [
      "At iter: 4 , Noise Value = 1.0000000000000007 w/ error: 0.39970763126262504\n"
     ]
    },
    {
     "name": "stdout",
     "output_type": "stream",
     "text": [
      "At iter: 5 , Noise Value = 1.0000000000000007 w/ error: 0.5825008816285114\n"
     ]
    },
    {
     "name": "stdout",
     "output_type": "stream",
     "text": [
      "At iter: 6 , Noise Value = 1.0000000000000007 w/ error: 0.4553946823063477\n"
     ]
    },
    {
     "name": "stdout",
     "output_type": "stream",
     "text": [
      "At iter: 7 , Noise Value = 1.0000000000000007 w/ error: 0.09694990273167471\n"
     ]
    },
    {
     "name": "stdout",
     "output_type": "stream",
     "text": [
      "At iter: 8 , Noise Value = 1.0000000000000007 w/ error: 0.00556809147423416\n"
     ]
    },
    {
     "name": "stdout",
     "output_type": "stream",
     "text": [
      "At iter: 9 , Noise Value = 1.0000000000000007 w/ error: 0.00019142472874529495\n"
     ]
    }
   ],
   "source": [
    "# SBL Algorithm\n",
    "ϵ = 0.001; # Numerical Tolerance of Algorithm\n",
    "γ_collection = Vector{Float64}(undef, length(az_list));\n",
    "max_iter = 500;\n",
    "K = 1;      # Number of Peaks\n",
    "σ_noise = 0.1;\n",
    "num_sensors = length(sensors_underwater);\n",
    "# for iter = 1:max_iter\n",
    "\n",
    "γ_collection, ___ = cbf(Sy, sensors_underwater, freq, c0);\n",
    "\n",
    "for iter = 1:max_iter\n",
    "    Γ = diagm(γ_collection);\n",
    "    Σy = σ_noise .* I + A * Γ * A'; # Note: I is the identity Matrix\n",
    "\n",
    "    # Start Finding new Amplitudes\n",
    "    γ_new = Vector{ComplexF64}(undef, length(γ_collection));\n",
    "    for (az_idx, az) in enumerate(az_list)\n",
    "        a = A[:, az_idx];\n",
    "        inv_y = inv(Σy);\n",
    "        numo = tr(Sy * inv_y * a * a' * inv_y); # Is this PSD too by right?\n",
    "        denom = a' * inv_y * a;         # Is this PSD by right?\n",
    "        # println(\"Numerator: $(numo), Denomenator: $(denom)\")\n",
    "        γ_new[az_idx] = γ_collection[az_idx] .* abs(numo) / abs(denom);\n",
    "    end\n",
    "    γ_new = abs.(γ_new);\n",
    "\n",
    "    # Find Peaks & Re-estimate Noise Parameter\n",
    "    ___, az_max_idx = findmax(γ_new); # Technically Find local Peaks\n",
    "    Am = A[:, az_max_idx];\n",
    "    σ_noise = tr(I - Am * pinv(Am)) ./ (num_sensors - K);\n",
    "    σ_noise = abs(σ_noise);\n",
    "\n",
    "    err = norm(γ_new - γ_collection, 1) ./ norm(γ_collection, 1);\n",
    "    println(\"At iter: $iter , Noise Value = $(σ_noise) w/ error: $err\")\n",
    "    # Stopping Criterion\n",
    "    err < ϵ ? break : γ_collection = γ_new;\n",
    "end"
   ]
  },
  {
   "cell_type": "code",
   "execution_count": 69,
   "metadata": {},
   "outputs": [
    {
     "data": {
      "text/plain": [
       "1.0000000000000007"
      ]
     },
     "metadata": {},
     "output_type": "display_data"
    }
   ],
   "source": [
    "σ_noise"
   ]
  },
  {
   "cell_type": "code",
   "execution_count": 62,
   "metadata": {},
   "outputs": [
    {
     "data": {
      "text/plain": [
       "361-element Vector{ComplexF64}:\n",
       " NaN + NaN*im\n",
       " NaN + NaN*im\n",
       " NaN + NaN*im\n",
       " NaN + NaN*im\n",
       " NaN + NaN*im\n",
       " NaN + NaN*im\n",
       " NaN + NaN*im\n",
       " NaN + NaN*im\n",
       " NaN + NaN*im\n",
       " NaN + NaN*im\n",
       "     ⋮\n",
       " NaN + NaN*im\n",
       " NaN + NaN*im\n",
       " NaN + NaN*im\n",
       " NaN + NaN*im\n",
       " NaN + NaN*im\n",
       " NaN + NaN*im\n",
       " NaN + NaN*im\n",
       " NaN + NaN*im\n",
       " NaN + NaN*im"
      ]
     },
     "metadata": {},
     "output_type": "display_data"
    }
   ],
   "source": [
    "# γ_new - γ_collection"
   ]
  },
  {
   "cell_type": "code",
   "execution_count": 50,
   "metadata": {},
   "outputs": [
    {
     "data": {
      "text/plain": [
       "40×40 Matrix{ComplexF64}:\n",
       "      0.025+0.0im         …   0.00656315-0.0241231im\n",
       "     -0.025-1.1962e-5im       -0.0065747+0.02412im\n",
       "      0.025+2.3924e-5im       0.00658624-0.0241168im\n",
       "     -0.025-3.5886e-5im      -0.00659777+0.0241137im\n",
       "      0.025+4.78479e-5im      0.00660931-0.0241105im\n",
       "   0.015137-0.0198965im   …   -0.0152248-0.0198294im\n",
       "  0.0129743-0.0213698im       -0.0172142-0.0181293im\n",
       "  0.0114163+0.0222411im        0.0244581-0.00517699im\n",
       " -0.0130154+0.0213448im        0.0171792+0.0181624im\n",
       "  0.0114376+0.0222302im        0.0244531-0.00520039im\n",
       "           ⋮              ⋱  \n",
       "  0.0246488+0.00417546im          0.0105-0.0226881im\n",
       " -0.0151666+0.019874im         0.0151953+0.019852im\n",
       " 0.00658624+0.0241168im            0.025-2.3924e-5im\n",
       "  0.0231626+0.00940708im       0.0151579-0.0198806im\n",
       "  0.0215355-0.0126973im   …   -0.0065983-0.0241135im\n",
       " 0.00298419-0.0248213im       -0.0231672-0.00939574im\n",
       " -0.0245847+0.00453772im     -0.00207558+0.0249137im\n",
       " -0.0231581-0.00941816im      -0.0151674+0.0198733im\n",
       " 0.00656315+0.0241231im            0.025-8.67362e-19im"
      ]
     },
     "metadata": {},
     "output_type": "display_data"
    }
   ],
   "source": [
    "Am * pinv(Am)"
   ]
  },
  {
   "cell_type": "code",
   "execution_count": 32,
   "metadata": {},
   "outputs": [
    {
     "data": {
      "text/plain": [
       "40×40 Matrix{ComplexF64}:\n",
       " 0.1+0.0im  0.0+0.0im  0.0+0.0im  …  0.0+0.0im  0.0+0.0im  0.0+0.0im\n",
       " 0.0+0.0im  0.1+0.0im  0.0+0.0im     0.0+0.0im  0.0+0.0im  0.0+0.0im\n",
       " 0.0+0.0im  0.0+0.0im  0.1+0.0im     0.0+0.0im  0.0+0.0im  0.0+0.0im\n",
       " 0.0+0.0im  0.0+0.0im  0.0+0.0im     0.0+0.0im  0.0+0.0im  0.0+0.0im\n",
       " 0.0+0.0im  0.0+0.0im  0.0+0.0im     0.0+0.0im  0.0+0.0im  0.0+0.0im\n",
       " 0.0+0.0im  0.0+0.0im  0.0+0.0im  …  0.0+0.0im  0.0+0.0im  0.0+0.0im\n",
       " 0.0+0.0im  0.0+0.0im  0.0+0.0im     0.0+0.0im  0.0+0.0im  0.0+0.0im\n",
       " 0.0+0.0im  0.0+0.0im  0.0+0.0im     0.0+0.0im  0.0+0.0im  0.0+0.0im\n",
       " 0.0+0.0im  0.0+0.0im  0.0+0.0im     0.0+0.0im  0.0+0.0im  0.0+0.0im\n",
       " 0.0+0.0im  0.0+0.0im  0.0+0.0im     0.0+0.0im  0.0+0.0im  0.0+0.0im\n",
       "    ⋮                             ⋱                        \n",
       " 0.0+0.0im  0.0+0.0im  0.0+0.0im     0.0+0.0im  0.0+0.0im  0.0+0.0im\n",
       " 0.0+0.0im  0.0+0.0im  0.0+0.0im     0.0+0.0im  0.0+0.0im  0.0+0.0im\n",
       " 0.0+0.0im  0.0+0.0im  0.0+0.0im     0.0+0.0im  0.0+0.0im  0.0+0.0im\n",
       " 0.0+0.0im  0.0+0.0im  0.0+0.0im     0.0+0.0im  0.0+0.0im  0.0+0.0im\n",
       " 0.0+0.0im  0.0+0.0im  0.0+0.0im  …  0.0+0.0im  0.0+0.0im  0.0+0.0im\n",
       " 0.0+0.0im  0.0+0.0im  0.0+0.0im     0.0+0.0im  0.0+0.0im  0.0+0.0im\n",
       " 0.0+0.0im  0.0+0.0im  0.0+0.0im     0.1+0.0im  0.0+0.0im  0.0+0.0im\n",
       " 0.0+0.0im  0.0+0.0im  0.0+0.0im     0.0+0.0im  0.1+0.0im  0.0+0.0im\n",
       " 0.0+0.0im  0.0+0.0im  0.0+0.0im     0.0+0.0im  0.0+0.0im  0.1+0.0im"
      ]
     },
     "metadata": {},
     "output_type": "display_data"
    }
   ],
   "source": []
  },
  {
   "cell_type": "code",
   "execution_count": null,
   "metadata": {},
   "outputs": [],
   "source": []
  }
 ],
 "metadata": {
  "kernelspec": {
   "display_name": "Julia 1.8.5",
   "language": "julia",
   "name": "julia-1.8"
  },
  "language_info": {
   "file_extension": ".jl",
   "mimetype": "application/julia",
   "name": "julia",
   "version": "1.8.5"
  },
  "orig_nbformat": 4
 },
 "nbformat": 4,
 "nbformat_minor": 2
}
