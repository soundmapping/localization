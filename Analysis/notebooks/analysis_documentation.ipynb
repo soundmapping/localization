{
 "cells": [
  {
   "cell_type": "markdown",
   "metadata": {},
   "source": [
    "## Purpose\n",
    "This notebook (md) will serve as a documentation page of analysis. Please include all the findings, updates, and to-do lists. "
   ]
  },
  {
   "cell_type": "markdown",
   "metadata": {},
   "source": [
    "### Oct 19th - 23rd"
   ]
  },
  {
   "cell_type": "markdown",
   "metadata": {},
   "source": [
    "Findings:\n",
    "1. Investigated the oscillating nature of observation against time in PCA space, found that the oscillation came from data queried from `multiDimMatrix`.\n",
    "2. Used the new grouping algorithm on Aug 19th raw data, and computed the linearly summed observation against time.\n",
    "3. Compared the summed observation of data grouped by the old algorithm and the new algorithm, discovered discrepancy\n",
    "4. Found the underlying problem in the new query algorithm, which skips data points if the quantization remainder does not fall into certain bins and accumulates multiple data points into one bin.\n",
    "5. Solved by increasing bin/sampling size from 8 ms to 16 ms, and average data points within 1 bin."
   ]
  },
  {
   "cell_type": "markdown",
   "metadata": {},
   "source": [
    "Updates:\n",
    "1. Increased sampling size from 8 ms to 64 ms, updated cronjob accordingly\n",
    "2. Projected Oct 13th data queried from `multiDimMatrix` using the updated algorithm onto Aug 19th eigen vectors, noise is LARGELY reduced, and the room geometry is mostly retained"
   ]
  },
  {
   "cell_type": "markdown",
   "metadata": {},
   "source": [
    "To-DO list:\n",
    "1. Save Aug 19th eigen values and eigen vectors in `values.py`\n",
    "2. Clean up modules in `Utils`"
   ]
  },
  {
   "cell_type": "markdown",
   "metadata": {},
   "source": [
    "### Oct 26th - 30th"
   ]
  },
  {
   "cell_type": "markdown",
   "metadata": {},
   "source": [
    "Findings:"
   ]
  },
  {
   "cell_type": "markdown",
   "metadata": {},
   "source": [
    "Updates:\n",
    "\n",
    "For future imports and data extraction:"
   ]
  },
  {
   "cell_type": "code",
   "execution_count": 6,
   "metadata": {},
   "outputs": [],
   "source": [
    "# import\n",
    "import sys\n",
    "sys.path.append('/home/ardelalegre/SoundMapping/Analysis/Util')\n",
    "import numpy as np\n",
    "import matplotlib.pyplot as plt\n",
    "from get_time_interval_data import *\n",
    "from PCA import *\n",
    "from Plot import *\n",
    "from sklearn.cluster import KMeans"
   ]
  },
  {
   "cell_type": "code",
   "execution_count": null,
   "metadata": {},
   "outputs": [],
   "source": [
    "# data\n",
    "data_0819 = get_time_interval_matrix_data('Aug 19 2020 11:10AM','Aug 19 2020 11:20AM')\n",
    "data_1013 = get_time_interval_matrix_data('Oct 13 2020 02:30PM','Oct 13 2020 02:30PM')"
   ]
  },
  {
   "cell_type": "markdown",
   "metadata": {},
   "source": [
    "TO-DO list:\n",
    "\n",
    "Programming:\n",
    "1. Add k-means into plotting\n",
    "\n",
    "Experiments:\n",
    "1. Two people talking from two different places, check to see if we can identify where the sources are in the room geometry\n",
    "2. A mapping from PCA coordinates to room coordinates\n",
    "3. walking between chairs, walking from doors to chairs, opening doors, without speaking or audiobooks, check if these activities can be detected\n",
    "\n",
    "Learning Procedures (maybe in the future):\n",
    "1. Pick 5-6 fixed positions, record a truth set of coordinates for each position, from various angle.\n",
    "2. Test if you can that position is active when noise/sound is made at that position\n",
    "3. Event detection... weaker sounds, multiple speakers\n",
    "\n",
    "NEXT WEEK:\n",
    "1. (Rearrange the chairs) Number each chair, to record the experiments, talk while sitting in the chair and switching between chairs. Write down how you move as you move, and record with cameras as well.\n",
    "2. Recording mode:\n",
    "    - precise mode: fix the sound source on the table/chair\n",
    "    - moving mode: move around the sound source the chair\n",
    "3. Pick 5-6 fixed positions, record a truth set of coordinates for each position, from various angle, e.g. for chairs:\n",
    "    1. One fixed recording\n",
    "    2. One \"cone\" recording (moving the sound source up and down in the area around the chair where the speaker is likely to emit sound)\n",
    "    3. One talking recording\n",
    "    4. Mapping from PCA space to room coordinates\n",
    "    5. Create a table of X,Y,Z with std for each chair, each array"
   ]
  },
  {
   "cell_type": "markdown",
   "metadata": {},
   "source": [
    "### Nov 2nd - 6th"
   ]
  },
  {
   "cell_type": "markdown",
   "metadata": {},
   "source": [
    "Updates:\n",
    "1. Updated `strTime_to_unixTime`, now precision to seconds is supported"
   ]
  },
  {
   "cell_type": "code",
   "execution_count": null,
   "metadata": {},
   "outputs": [],
   "source": []
  }
 ],
 "metadata": {
  "kernelspec": {
   "display_name": "Python 3",
   "language": "python",
   "name": "python3"
  },
  "language_info": {
   "codemirror_mode": {
    "name": "ipython",
    "version": 3
   },
   "file_extension": ".py",
   "mimetype": "text/x-python",
   "name": "python",
   "nbconvert_exporter": "python",
   "pygments_lexer": "ipython3",
   "version": "3.5.2"
  }
 },
 "nbformat": 4,
 "nbformat_minor": 4
}
