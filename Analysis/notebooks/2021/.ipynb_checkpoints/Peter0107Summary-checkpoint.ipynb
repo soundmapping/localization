{
 "cells": [
  {
   "cell_type": "code",
   "execution_count": 1,
   "metadata": {},
   "outputs": [],
   "source": [
    "import sys\n",
    "sys.path.append('/home/ardelalegre/SoundMapping/Analysis/Util')\n",
    "sys.path.append('/home/ardelalegre/SoundMapping/Database')\n",
    "from DatabaseAPI import DatabaseAPI\n",
    "import numpy as np\n",
    "import matplotlib.pyplot as plt\n",
    "from Mapping import *\n",
    "from PIL import Image\n",
    "from get_time_interval_data import *\n",
    "from PCA import *\n",
    "from Plot import *\n",
    "import pickle"
   ]
  },
  {
   "cell_type": "markdown",
   "metadata": {},
   "source": [
    "### Data\n",
    "annotation:\n",
    "- `active_event_name_DOA`: DOAs of all selected arrays without time index, all arrays are active\n",
    "- `active_event_name_matrix_data`: modified matrix data from database that includes time index, all selected arrays are active"
   ]
  },
  {
   "cell_type": "code",
   "execution_count": 68,
   "metadata": {},
   "outputs": [],
   "source": [
    "# the first 5 points\n",
    "desk_spe = get_time_interval_matrix_data(\"Jan 02 2021 02:10PM\", \"Jan 02 2021 02:15PM\")\n",
    "\n",
    "# last point\n",
    "last_point = get_time_interval_matrix_data(\"Jan 02 2021 02:15PM\", \"Jan 02 2021 02:16PM\")\n",
    "\n",
    "# array 5\n",
    "array_5_x = desk_spe[:,16]\n",
    "array_5_y = desk_spe[:,17]\n",
    "array_5_z = desk_spe[:,18]\n",
    "\n",
    "# doing np.where == 0\n",
    "array_5_x_0_indices = np.where(array_5_x==0)\n",
    "array_5_y_0_indices = np.where(array_5_y==0)\n",
    "array_5_z_0_indices = np.where(array_5_z==0)\n",
    "\n",
    "# importing missing data from pickle\n",
    "array_5_x_md = pickle.load(open('/home/ardelalegre/Documents/SoundMapping/Analysis/notebooks/array_5_x_missing_data.p', 'rb'))\n",
    "array_5_y_md = pickle.load(open('/home/ardelalegre/Documents/SoundMapping/Analysis/notebooks/array_5_y_missing_data.p', 'rb'))\n",
    "array_5_z_md = pickle.load(open('/home/ardelalegre/Documents/SoundMapping/Analysis/notebooks/array_5_z_missing_data.p', 'rb'))\n",
    "\n",
    "# figuring out the array to stitch back\n",
    "array_5_x[array_5_x_0_indices] = array_5_x_md[:-1]\n",
    "array_5_y[array_5_y_0_indices] = array_5_y_md[:-1]\n",
    "array_5_z[array_5_z_0_indices] = array_5_z_md[:-1]\n",
    "\n",
    "# stitching\n",
    "desk_spe[:,16] = array_5_x\n",
    "desk_spe[:,17] = array_5_y\n",
    "desk_spe[:,18] = array_5_z\n",
    "\n",
    "desk_spe = np.vstack([desk_spe, last_point])\n",
    "\n",
    "point1 = desk_spe[:950,:]\n",
    "point2 = desk_spe[1100:1900,:]\n",
    "point3 = desk_spe[2000:2700,:]\n",
    "point4 = desk_spe[3000:3750,:]\n",
    "point5 = desk_spe[4100:4600,:]\n",
    "point6 = desk_spe[4900:,:]\n",
    "\n",
    "all_points = np.vstack([point1, point2, point3, point4, point5, point6])\n",
    "active_desk_spe_DOA, active_desk_spe_matrix_data = extract_all_active_observations(all_points, [0,1,2,3,5])"
   ]
  },
  {
   "cell_type": "code",
   "execution_count": 3,
   "metadata": {},
   "outputs": [],
   "source": [
    "rec_slide = get_time_interval_matrix_data(\"Jan 02 2021 03:03PM\", \"Jan 02 2021 03:05PM\")\n",
    "\n",
    "# array 5\n",
    "array_5_x = rec_slide[:,16]\n",
    "array_5_y = rec_slide[:,17]\n",
    "array_5_z = rec_slide[:,18]\n",
    "\n",
    "# doing np.where == 0\n",
    "array_5_x_0_indices = np.where(array_5_x==0)\n",
    "array_5_y_0_indices = np.where(array_5_y==0)\n",
    "array_5_z_0_indices = np.where(array_5_z==0)\n",
    "\n",
    "# importing missing data from pickle\n",
    "array_5_x_md = pickle.load(open('/home/ardelalegre/Documents/SoundMapping/Analysis/notebooks/rec_array_5_x_missing_data.p', 'rb'))\n",
    "array_5_y_md = pickle.load(open('/home/ardelalegre/Documents/SoundMapping/Analysis/notebooks/rec_array_5_y_missing_data.p', 'rb'))\n",
    "array_5_z_md = pickle.load(open('/home/ardelalegre/Documents/SoundMapping/Analysis/notebooks/rec_array_5_z_missing_data.p', 'rb'))\n",
    "\n",
    "# figuring out the array to stitch back\n",
    "array_5_x[array_5_x_0_indices] = array_5_x_md\n",
    "array_5_y[array_5_y_0_indices] = array_5_y_md\n",
    "array_5_z[array_5_z_0_indices] = array_5_z_md\n",
    "\n",
    "# stitching\n",
    "rec_slide[:,16] = array_5_x\n",
    "rec_slide[:,17] = array_5_y\n",
    "rec_slide[:,18] = array_5_z\n",
    "\n",
    "active_rec_slide_DOA, active_rec_slide_matrix_data = extract_all_active_observations(rec_slide, [0,1,2,3,5])"
   ]
  },
  {
   "cell_type": "code",
   "execution_count": 4,
   "metadata": {},
   "outputs": [],
   "source": [
    "line_slide = get_time_interval_matrix_data(\"Jan 02 2021 03:05PM\", \"Jan 02 2021 03:06PM\")\n",
    "\n",
    "active_line_slide_DOA, active_line_slide_matrix_data = extract_all_active_observations(line_slide, [0,1,2,3,5])"
   ]
  },
  {
   "cell_type": "markdown",
   "metadata": {},
   "source": [
    "### Time Series\n",
    "usage:\n",
    "1. `plot_doa_time_series(active_event_name_matrix_data, [array index])`: plots DOAs (all three axes) versus time\n",
    "2. `plot_raw_time_series(start_time_string, end_time_string, array_index)`: plots only x axis of DOAs of a selected array across all four beams versus time"
   ]
  },
  {
   "cell_type": "code",
   "execution_count": 81,
   "metadata": {},
   "outputs": [],
   "source": [
    "# plot_doa_time_series(active_desk_spe_matrix_data,  [0,1,2,3,5])\n",
    "# plot_doa_time_series(active_rec_slide_matrix_data, [0,1,2,3,5])\n",
    "# plot_doa_time_series(active_line_slide_matrix_data,[0,1,2,3,5])"
   ]
  },
  {
   "cell_type": "markdown",
   "metadata": {},
   "source": [
    "### PCA\n",
    "annotation:\n",
    "- `EIGEN_VALUES_CHAIR, EIGEN_VECTORS_CHAIR`: eigenvectors calculated from chair static points experiment data, presaved in the library\n",
    "\n",
    "usage: \n",
    "1. `get_eigen_vectors(active_event_name_matrix_data)`: calculates eigenvectors\n",
    "2. `get_cdata(active_event_name_matrix_data)`: calculates zero mean centered data\n",
    "3. `project_to_eigen_vectors(cdata, 2, EIGEN_VALUES, EIGEN_VECTORS)`: calculates the projections onto eigenvectors"
   ]
  },
  {
   "cell_type": "code",
   "execution_count": 89,
   "metadata": {},
   "outputs": [
    {
     "name": "stdout",
     "output_type": "stream",
     "text": [
      "The autoreload extension is already loaded. To reload it, use:\n",
      "  %reload_ext autoreload\n"
     ]
    }
   ],
   "source": [
    "%load_ext autoreload\n",
    "%autoreload 2"
   ]
  },
  {
   "cell_type": "code",
   "execution_count": 69,
   "metadata": {},
   "outputs": [],
   "source": [
    "pwd = '/home/ardelalegre/SoundMapping/Analysis/notebooks/data/'\n",
    "active_chair_spe_matrix_data = pickle.load(open(pwd+'chairs_cleaned.p','rb'))"
   ]
  },
  {
   "cell_type": "code",
   "execution_count": 84,
   "metadata": {},
   "outputs": [],
   "source": [
    "# currently only 5 arrays are active\n",
    "active_array_ind = [0, 1, 2, 3, 4, 5, 6, 7, 8, 9, 10, 11, 12, 16, 17, 18]"
   ]
  },
  {
   "cell_type": "code",
   "execution_count": 71,
   "metadata": {},
   "outputs": [],
   "source": [
    "# need to make singular values and vectors based on 5 arrays\n",
    "active_chair_spe_eigen_data = active_chair_spe_matrix_data[:,active_array_ind]\n",
    "active_desk_spe_eigen_data  = active_desk_spe_matrix_data[:,active_array_ind]"
   ]
  },
  {
   "cell_type": "code",
   "execution_count": 72,
   "metadata": {},
   "outputs": [],
   "source": [
    "# calculate eigen vectors using 5 arrays DOAs\n",
    "EIGEN_VALUES_CHAIR, EIGEN_VECTORS_CHAIR = get_eigen_vectors(active_chair_spe_eigen_data)\n",
    "EIGEN_VALUES_DESK, EIGEN_VECTORS_DESK = get_eigen_vectors(active_desk_spe_eigen_data)\n",
    "EIGEN_VALUES_DESK_CHAIR, EIGEN_VECTORS_DESK_CHAIR = get_eigen_vectors(np.vstack([active_desk_spe_eigen_data,\n",
    "                                                                                 active_chair_spe_eigen_data]))"
   ]
  },
  {
   "cell_type": "code",
   "execution_count": 82,
   "metadata": {},
   "outputs": [],
   "source": [
    "# # example using desk_spe\n",
    "# cdata, _ = get_cdata(active_rec_slide_matrix_data[:,active_array_ind])\n",
    "# # projections = project_to_eigen_vectors(cdata, 2, EIGEN_VALUES_CHAIR, EIGEN_VECTORS_CHAIR)\n",
    "# projections = project_to_eigen_vectors(cdata, 2, EIGEN_VALUES_DESK, EIGEN_VECTORS_DESK)\n",
    "# # projections = project_to_eigen_vectors(cdata, 2, EIGEN_VALUES_DESK_CHAIR, EIGEN_VECTORS_DESK_CHAIR)\n",
    "\n",
    "# fig = plt.figure(figsize = [20,10])\n",
    "# # ax1 = fig.add_subplot(121)\n",
    "# # room_model_chair = plt.imread('../room_model_v4.png')\n",
    "# # ax1.imshow(room_model_chair)\n",
    "\n",
    "# ax2 = fig.add_subplot(111)\n",
    "# temp = ax2.scatter(projections[:,0], projections[:,1], c = np.arange(projections.shape[0]), s=0.1)\n",
    "# ax2.set_xlim(-1,1)\n",
    "# ax2.set_ylim(-1,1)\n",
    "# ax2.set_aspect('equal')\n",
    "# cbar = fig.colorbar(temp, ax=ax2)\n",
    "# cbar.ax.set_title('Index')\n",
    "\n",
    "# plt.show()"
   ]
  },
  {
   "cell_type": "code",
   "execution_count": 95,
   "metadata": {},
   "outputs": [
    {
     "data": {
      "image/png": "[encoded data removed]",
      "text/plain": [
       "<Figure size 1440x1080 with 3 Axes>"
      ]
     },
     "metadata": {
      "needs_background": "light"
     },
     "output_type": "display_data"
    }
   ],
   "source": [
    "all_DOA_points = pickle.load(open(pwd+'desk_chair_points.p','rb'))\n",
    "all_room_coordinates = pickle.load(open(pwd+'desk_chair_points_room_coordinates.p','rb'))\n",
    "\n",
    "fig1 = plt.figure(figsize = [20,15])\n",
    "\n",
    "EIGENVALUES_LIST = [EIGEN_VALUES_DESK, EIGEN_VALUES_CHAIR, EIGEN_VALUES_DESK_CHAIR]\n",
    "EIGENVECTORS_LIST = [EIGEN_VECTORS_DESK, EIGEN_VECTORS_CHAIR, EIGEN_VECTORS_DESK_CHAIR]\n",
    "EVENT_LABEL = ['{}_DESK', '{}_CHAIR', '{}_DESK_CHAIR']\n",
    "\n",
    "for ii in [0,1,2]:\n",
    "    # load data\n",
    "    cdata, data_mean = get_cdata(active_rec_slide_matrix_data[:,active_array_ind])\n",
    "    projections = project_to_eigen_vectors(cdata, 2, EIGENVALUES_LIST[ii], EIGENVECTORS_LIST[ii])\n",
    "    # saving\n",
    "    #     pickle.dump([R_0,B],open(pwd+FILENAME[j1]+'_transform_matrix'+'.p','wb'))\n",
    "    # plotting\n",
    "    ax1 = fig1.add_subplot(1,3,ii+1)\n",
    "    temp = ax1.scatter(projections[:,0], projections[:,1], c = np.arange(projections.shape[0]), s=0.1)\n",
    "    ax1.set_xlim(-1,1)\n",
    "    ax1.set_ylim(-1,1)\n",
    "    ax1.set_aspect('equal')\n",
    "    \n",
    "#     R_mean_1 = all_room_coordinates[0,:2].T.reshape(-1,1)\n",
    "    D_mean_1 = np.median(all_DOA_points[0], axis=0).reshape(-1,1)\n",
    "    D_mean_2 = np.median(all_DOA_points[1], axis=0).reshape(-1,1)\n",
    "    D_mean_3 = np.median(all_DOA_points[2], axis=0).reshape(-1,1)\n",
    "    D_mean_4 = np.median(all_DOA_points[3], axis=0).reshape(-1,1)\n",
    "    \n",
    "    D_corner = np.hstack([D_mean_1, D_mean_2, D_mean_3, D_mean_4])\n",
    "    D_corner_centered = D_corner - data_mean.T\n",
    "    \n",
    "    projections = project_to_eigen_vectors(D_corner_centered.T, 2, EIGENVALUES_LIST[ii], EIGENVECTORS_LIST[ii])\n",
    "    temp = ax1.scatter(projections[:,0], projections[:,1], c = np.arange(projections.shape[0]), s=100)\n",
    "#     # point 5\n",
    "#     R_mean_5 = all_room_coordinates[4,:2].T.reshape(-1,1)\n",
    "#     D_mean_5 = np.median(all_DOA_points[4], axis=0).reshape(-1,1)\n",
    "#     # point 6\n",
    "#     R_mean_6 = all_room_coordinates[5,:2].T.reshape(-1,1)\n",
    "#     D_mean_6 = np.median(all_DOA_points[5], axis=0).reshape(-1,1)\n",
    "#     cbar = fig.colorbar(temp, ax=ax1)\n",
    "#     cbar.ax.set_title('Index')\n",
    "#     ax1.set_title(\"Result of Linear Mapping\")\n",
    "#     ax1.set_xlabel(\"X Position (m)\")\n",
    "#     ax1.set_ylabel(\"Y Position (m)\")\n",
    "#     ax1.set_aspect('equal')\n",
    "#     ax1.set(xlim=(0,4.385), ylim=(0,3.918))\n",
    "#     ax1.scatter(room_coordinates[:,0],room_coordinates[:,1], \n",
    "#                 c = 'r', s = 10, label = '{} Original Positions'.format(EVENT_LABEL[ii]))\n",
    "#     ax1.legend();\n"
   ]
  },
  {
   "cell_type": "code",
   "execution_count": null,
   "metadata": {},
   "outputs": [],
   "source": [
    "# fig1.savefig('PCAMap.pdf')"
   ]
  },
  {
   "cell_type": "markdown",
   "metadata": {},
   "source": [
    "### Static Points Linear Mapping & B Matrix\n",
    "annotation:\n",
    "- `chair`: static point experiments using chairs\n",
    "- `desk`: static point experiments using desks\n",
    "- `desk_chair`: static point experiments using desks and chairs\n",
    "- `DOA_points_list`: contains names of pickle files, where a list of DOAs is saved. Each element in the list represents a point, containing an array of DOAs.\n",
    "- `room_coordinates_list`: contains names of pickle files, where an array of room coordinates of points is saved\n",
    "\n",
    "(DOAs and room coordinates are saved in the same order. DOAs uses **five** arrays)\n",
    "\n",
    "usage:\n",
    "1. `generate_linear_transform_matrix(DOA_points, room_coordinates, N)`: calculates N dimensional linear mapping matrix"
   ]
  },
  {
   "cell_type": "code",
   "execution_count": null,
   "metadata": {},
   "outputs": [],
   "source": [
    "FILENAME = ['chair','desk','desk_chair']\n",
    "DOA_points_list = ['chair_points.p', 'desk_points.p', 'desk_chair_points.p']\n",
    "room_coordinates_list = ['chair_points_room_coordinates.p', \n",
    "                         'desk_points_room_coordinates.p',\n",
    "                         'desk_chair_points_room_coordinates.p']\n",
    "pwd = '/home/ardelalegre/SoundMapping/Analysis/notebooks/data/'"
   ]
  },
  {
   "cell_type": "code",
   "execution_count": null,
   "metadata": {},
   "outputs": [],
   "source": [
    "fig1 = plt.figure(figsize = [20,15])\n",
    "fig2 = plt.figure(figsize = [20,9])\n",
    "EVENT_LABEL = ['Desk', 'Chair', 'Desk & Chair']\n",
    "\n",
    "for ii in [0,1,2]:\n",
    "    # load data\n",
    "    DOA_points = pickle.load(open(pwd+DOA_points_list[ii],'rb'))\n",
    "    room_coordinates = pickle.load(open(pwd+room_coordinates_list[ii],'rb'))\n",
    "    B,R_mean,D_mean,D = generate_linear_transform_matrix(DOA_points, room_coordinates, 2) # 2 dimensional mapping\n",
    "    # find displacement of mean in room space\n",
    "    R_0 = R_mean-B @ D_mean\n",
    "    # affine transform all DOA points\n",
    "    r = R_0 + B @ D\n",
    "    # saving\n",
    "#     pickle.dump([R_0,B],open(pwd+FILENAME[j1]+'_transform_matrix'+'.p','wb'))\n",
    "    # plotting\n",
    "    ax1 = fig1.add_subplot(1,3,ii+1)\n",
    "    ax1.scatter(r[0,:], r[1,:], c = np.arange(r.shape[1]), s = 0.1)\n",
    "    ax1.set_title(\"Result of Linear Mapping\")\n",
    "    ax1.set_xlabel(\"X Position (m)\")\n",
    "    ax1.set_ylabel(\"Y Position (m)\")\n",
    "    ax1.set_aspect('equal')\n",
    "    ax1.set(xlim=(0,4.385), ylim=(0,3.918))\n",
    "    ax1.scatter(room_coordinates[:,0],room_coordinates[:,1], \n",
    "                c = 'r', s = 10, label = '{} Original Positions'.format(EVENT_LABEL[ii]))\n",
    "    ax1.legend();\n",
    "\n",
    "    ax2 = fig2.add_subplot(3,1,ii+1)\n",
    "    temp = ax2.imshow(B)\n",
    "    cbar = fig2.colorbar(temp)\n",
    "    ax2.set_title(\"B Matrix Colormap\")\n",
    "    ax2.set_yticks([0, 1])\n",
    "    ax2.set_xticks(range(1,15,3))\n",
    "    ax2.set_xticklabels([\"Array-0\", \"Array-1\", \"Array-2\",\"Array-3\",\"Array-5\"])"
   ]
  },
  {
   "cell_type": "markdown",
   "metadata": {},
   "source": [
    "### Activity/Event Linear Mapping\n",
    "usage:\n",
    "1. load mean displacement and B matrix calculated for different events\n",
    "```python\n",
    "transform_matrix = pickle.load(open(pwd+EVENTNAME[index]+'_transform_matrix.p','rb'))\n",
    "R_0, B = transform_matrix[0], transform_matrix[1]\n",
    "```"
   ]
  },
  {
   "cell_type": "code",
   "execution_count": null,
   "metadata": {},
   "outputs": [],
   "source": [
    "B_MATRIX_NAME = ['chair','desk','desk_chair','desk_L_table','desk_long_table']\n",
    "DOA_points_list = ['chair_points.p', 'desk_points.p', 'desk_chair_points.p']\n",
    "room_coordinates_list = ['chair_points_room_coordinates.p', \n",
    "                         'desk_points_room_coordinates.p',\n",
    "                         'desk_chair_points_room_coordinates.p']\n",
    "pwd = '/home/ardelalegre/SoundMapping/Analysis/notebooks/data/'\n",
    "DOApoints = pickle.load(open(pwd+DOA_points_list[1],'rb'))\n"
   ]
  },
  {
   "cell_type": "code",
   "execution_count": null,
   "metadata": {},
   "outputs": [],
   "source": [
    "DOApoints[1].shape"
   ]
  },
  {
   "cell_type": "code",
   "execution_count": null,
   "metadata": {},
   "outputs": [],
   "source": [
    "EVENTDOA = [active_rec_slide_DOA, active_line_slide_DOA]\n",
    "all_room_coordinates = pickle.load(open(pwd+room_coordinates_list[2],'rb'))\n",
    "all_room_coordinates =np.transpose(all_room_coordinates)\n",
    "fig = plt.figure(figsize = [20,16])\n",
    "color_list = ['r','b','g','y','c']\n",
    "EVENT_LABEL = ['Rectangle slide', 'Line slide']\n",
    "for ii in range(2):\n",
    "    ax = fig.add_subplot(1,2,ii+1)\n",
    "    ax.set_title(\"Result of Linear Mapping - \" + EVENT_LABEL[ii])\n",
    "    for jj in range(5):\n",
    "        transform_matrix = pickle.load(open(pwd+B_MATRIX_NAME[jj]+'_transform_matrix.p','rb'))\n",
    "        R_0, B = transform_matrix[0], transform_matrix[1]\n",
    "        event_DOA = EVENTDOA[ii].T\n",
    "        r = R_0 +B @ event_DOA\n",
    "        \n",
    "        ax.scatter(r[0,:], r[1,:], c = color_list[jj], s = 0.5, label = B_MATRIX_NAME[jj])    \n",
    "        ax.set_xlabel(\"X Position (m)\")\n",
    "        ax.set_ylabel(\"Y Position (m)\")\n",
    "        ax.set_aspect('equal')\n",
    "        ax.set(xlim=(0,4.385), ylim=(0,3.918))\n",
    "        ax.scatter(all_room_coordinates[0,:],all_room_coordinates[1,:], \n",
    "                   c = 'r', s = 20 )\n",
    "        marker_list = [\"$1$\",\"$2$\",\"$3$\",\"$4$\",\"$5$\",\"$6$\",\"$7$\",\"$8$\",\"$9$\",\"$10$\",\"$11$\"]\n",
    "        for i2 in range(all_room_coordinates.shape[1]):\n",
    "            plt.scatter(all_room_coordinates[0,i2]+0.1, all_room_coordinates[1,i2],marker=marker_list[i2] , s=100, c = 'r')\n",
    "\n",
    "        ax.legend(markerscale=5,fontsize=15);\n",
    "all_room_coordinates.shape              "
   ]
  },
  {
   "cell_type": "markdown",
   "metadata": {},
   "source": [
    "Experiment with different points for mapping\n",
    "In `room_coordinates`, `room_coordinates.shape = (11,3)`. \n",
    "1. `room_coordinates[0:4,:]` - points on L-shape table\n",
    "2. `room_coordinates[4:6,:]` - points on long table\n",
    "3. `room_coordinates[6:,:]`  - points on chairs in the order of chair2, chair3, chair4, chair5, chair1"
   ]
  },
  {
   "cell_type": "code",
   "execution_count": null,
   "metadata": {},
   "outputs": [],
   "source": [
    "# point 1\n",
    "all_DOA_points = pickle.load(open(pwd+'desk_chair_points.p','rb'))\n",
    "all_room_coordinates = pickle.load(open(pwd+'desk_chair_points_room_coordinates.p','rb'))\n",
    "R_mean_1 = all_room_coordinates[0,:2].T.reshape(-1,1)\n",
    "D_mean_1 = np.median(all_DOA_points[0], axis=0).reshape(-1,1)\n",
    "# point 5\n",
    "R_mean_5 = all_room_coordinates[4,:2].T.reshape(-1,1)\n",
    "D_mean_5 = np.median(all_DOA_points[4], axis=0).reshape(-1,1)\n",
    "# point 6\n",
    "R_mean_6 = all_room_coordinates[5,:2].T.reshape(-1,1)\n",
    "D_mean_6 = np.median(all_DOA_points[5], axis=0).reshape(-1,1)"
   ]
  },
  {
   "cell_type": "code",
   "execution_count": 90,
   "metadata": {},
   "outputs": [
    {
     "ename": "NameError",
     "evalue": "name 'R_mean_6' is not defined",
     "output_type": "error",
     "traceback": [
      "\u001b[0;31m---------------------------------------------------------------------------\u001b[0m",
      "\u001b[0;31mNameError\u001b[0m                                 Traceback (most recent call last)",
      "\u001b[0;32m<ipython-input-90-8b34e6143626>\u001b[0m in \u001b[0;36m<module>\u001b[0;34m\u001b[0m\n\u001b[1;32m     20\u001b[0m \u001b[0mcolor_list\u001b[0m \u001b[0;34m=\u001b[0m \u001b[0;34m[\u001b[0m\u001b[0;34m'r'\u001b[0m\u001b[0;34m,\u001b[0m\u001b[0;34m'b'\u001b[0m\u001b[0;34m,\u001b[0m\u001b[0;34m'g'\u001b[0m\u001b[0;34m,\u001b[0m\u001b[0;34m'y'\u001b[0m\u001b[0;34m,\u001b[0m\u001b[0;34m'c'\u001b[0m\u001b[0;34m]\u001b[0m\u001b[0;34m\u001b[0m\u001b[0m\n\u001b[1;32m     21\u001b[0m \u001b[0mEVENT_LABEL\u001b[0m \u001b[0;34m=\u001b[0m \u001b[0;34m[\u001b[0m\u001b[0;34m'Rectangle slide'\u001b[0m\u001b[0;34m,\u001b[0m \u001b[0;34m'Line slide'\u001b[0m\u001b[0;34m]\u001b[0m\u001b[0;34m\u001b[0m\u001b[0m\n\u001b[0;32m---> 22\u001b[0;31m \u001b[0mR_mean_list\u001b[0m \u001b[0;34m=\u001b[0m \u001b[0;34m[\u001b[0m\u001b[0mR_mean_1\u001b[0m\u001b[0;34m,\u001b[0m \u001b[0mR_mean_6\u001b[0m\u001b[0;34m]\u001b[0m\u001b[0;34m\u001b[0m\u001b[0m\n\u001b[0m\u001b[1;32m     23\u001b[0m \u001b[0mD_mean_list\u001b[0m \u001b[0;34m=\u001b[0m \u001b[0;34m[\u001b[0m\u001b[0mD_mean_1\u001b[0m\u001b[0;34m,\u001b[0m \u001b[0mD_mean_6\u001b[0m\u001b[0;34m]\u001b[0m\u001b[0;34m\u001b[0m\u001b[0m\n\u001b[1;32m     24\u001b[0m \u001b[0;34m\u001b[0m\u001b[0m\n",
      "\u001b[0;31mNameError\u001b[0m: name 'R_mean_6' is not defined"
     ]
    },
    {
     "data": {
      "text/plain": [
       "<Figure size 1440x1152 with 0 Axes>"
      ]
     },
     "metadata": {},
     "output_type": "display_data"
    }
   ],
   "source": [
    "EVENTDOA = [active_rec_slide_DOA, active_line_slide_DOA]\n",
    "all_DOA_points = pickle.load(open(pwd+'desk_chair_points.p','rb'))\n",
    "all_room_coordinates = pickle.load(open(pwd+'desk_chair_points_room_coordinates.p','rb'))\n",
    "# add index of different points to the list\n",
    "points_index_list = [[6,7,8,9,10],              # chair\n",
    "                     [0,1,2,3,4,5],             # desk\n",
    "                     list(range(0,11)), # desk_chair\n",
    "                     [4,5], # long table\n",
    "                     [0,1,2,3],]        # L-shape table \n",
    "      \n",
    "# points_index_list = [[0,1,2,3,4,5],\n",
    "#                      []]              # point1\n",
    "\n",
    "# add name of different events\n",
    "# EVENT_NAME = ['chair','desk','desk_chair','desk_L_table']\n",
    "EVENT_NAME = ['chair', 'desk', 'desk_chair','long_table','L-shape_table']\n",
    "\n",
    "\n",
    "fig = plt.figure(figsize = [20,16])\n",
    "color_list = ['r','b','g','y','c']\n",
    "EVENT_LABEL = ['Rectangle slide', 'Line slide']\n",
    "R_mean_list = [R_mean_1, R_mean_6]\n",
    "D_mean_list = [D_mean_1, D_mean_6]\n",
    "\n",
    "for ii in range(2):\n",
    "    ax = fig.add_subplot(1,2,ii+1)\n",
    "    ax.set_title(\"Result of Linear Mapping - \" + EVENT_LABEL[ii])\n",
    "    for jj in [1,2,4]: #range(len(points_index_list)):\n",
    "        DOA_points = [all_DOA_points[i] for i in points_index_list[jj]]\n",
    "        room_coordinates = all_room_coordinates[points_index_list[jj],:]\n",
    "        B,R_mean,D_mean,D = generate_linear_transform_matrix(DOA_points, room_coordinates, 2) # 2 dimensional mapping\n",
    "        # find displacement of mean in room space\n",
    "        R_0 = R_mean_list[ii]-B @ D_mean_list[ii]\n",
    "        event_DOA = EVENTDOA[ii].T\n",
    "        r = R_0 +B @ event_DOA\n",
    "        \n",
    "        ax.scatter(r[0,:], r[1,:], c = color_list[jj], s = 0.5, label =EVENT_NAME[jj])    \n",
    "        ax.set_xlabel(\"X Position (m)\")\n",
    "        ax.set_ylabel(\"Y Position (m)\")\n",
    "        ax.set_aspect('equal')\n",
    "        ax.set(xlim=(0,4.385), ylim=(0,3.918))\n",
    "        ax.set(xlim=(1.75,3.55), ylim=(1.55,3.))\n",
    "        ax.scatter(all_room_coordinates[:,0],all_room_coordinates[:,1], \n",
    "                   c = 'r', s = 40 )\n",
    "        ax.legend(markerscale=5,fontsize=15);\n",
    "        marker_list = [\"$1$\",\"$2$\",\"$3$\",\"$4$\",\"$5$\",\"$6$\",\"$7$\",\"$8$\",\"$9$\",\"$10$\",\"$11$\"]\n",
    "        for i2 in range(all_room_coordinates.shape[0]):\n",
    "            plt.scatter(all_room_coordinates[i2,0]+0.05, all_room_coordinates[i2,1],marker=marker_list[i2] , s=100, c = 'r')\n",
    "\n",
    "print(D_mean.shape)"
   ]
  },
  {
   "cell_type": "code",
   "execution_count": null,
   "metadata": {},
   "outputs": [],
   "source": [
    "fig.savefig('Mappingtables2.pdf')"
   ]
  },
  {
   "cell_type": "code",
   "execution_count": null,
   "metadata": {},
   "outputs": [],
   "source": [
    "print(all_room_coordinates)"
   ]
  },
  {
   "cell_type": "code",
   "execution_count": null,
   "metadata": {},
   "outputs": [],
   "source": []
  }
 ],
 "metadata": {
  "kernelspec": {
   "display_name": "Python 3",
   "language": "python",
   "name": "python3"
  },
  "language_info": {
   "codemirror_mode": {
    "name": "ipython",
    "version": 3
   },
   "file_extension": ".py",
   "mimetype": "text/x-python",
   "name": "python",
   "nbconvert_exporter": "python",
   "pygments_lexer": "ipython3",
   "version": "3.5.2"
  }
 },
 "nbformat": 4,
 "nbformat_minor": 4
}
