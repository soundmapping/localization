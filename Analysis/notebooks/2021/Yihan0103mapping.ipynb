{
 "cells": [
  {
   "cell_type": "code",
   "execution_count": 1,
   "metadata": {},
   "outputs": [],
   "source": [
    "import sys\n",
    "sys.path.append('/home/ardelalegre/SoundMapping/Analysis/Util')\n",
    "sys.path.append('/home/ardelalegre/SoundMapping/Database')\n",
    "from DatabaseAPI import DatabaseAPI\n",
    "import matplotlib.pyplot as plt\n",
    "from Mapping import *\n",
    "import numpy as np\n",
    "from get_time_interval_data import *\n",
    "from PIL import Image\n",
    "from PCA import *\n",
    "from Plot import *\n",
    "import pickle"
   ]
  },
  {
   "cell_type": "markdown",
   "metadata": {},
   "source": [
    "## MAPPING"
   ]
  },
  {
   "cell_type": "markdown",
   "metadata": {},
   "source": [
    "Physical room coordinates"
   ]
  },
  {
   "cell_type": "code",
   "execution_count": 2,
   "metadata": {},
   "outputs": [],
   "source": [
    "# desk points\n",
    "# p0 = np.array([2.08, 1.81, 0.78])\n",
    "# p1 = np.array([3.45, 1.81, 0.78])\n",
    "# p2 = np.array([3.45, 2.57, 0.78])\n",
    "# p3 = np.array([2.08, 2.57, 0.78])\n",
    "# p4 = np.array([0.92, 1.71, 0.78])\n",
    "# p5 = np.array([0.92, 3.54, 0.78])"
   ]
  },
  {
   "cell_type": "code",
   "execution_count": 3,
   "metadata": {},
   "outputs": [],
   "source": [
    "# chair points\n",
    "# p0 = np.array([0.450, 0.791, 0.5])\n",
    "# p1 = np.array([2.598, 1.567, 0.5]) \n",
    "# p2 = np.array([3.544, 1.523, 0.5]) \n",
    "# p3 = np.array([3.040, 3.120, 0.5]) \n",
    "# p4 = np.array([1.266, 2.685, 0.5])"
   ]
  },
  {
   "cell_type": "markdown",
   "metadata": {},
   "source": [
    "Generate linear transform B matrix"
   ]
  },
  {
   "cell_type": "code",
   "execution_count": 4,
   "metadata": {},
   "outputs": [],
   "source": [
    "DOA_points_list = ['chair_points.p', 'desk_points.p', 'desk_chair_points.p']\n",
    "\n",
    "room_coordinates_list = ['chair_points_room_coordinates.p', \n",
    "                         'desk_points_room_coordinates.p',\n",
    "                         'desk_chair_points_room_coordinates.p']"
   ]
  },
  {
   "cell_type": "code",
   "execution_count": 5,
   "metadata": {},
   "outputs": [],
   "source": [
    "pwd = '/home/ardelalegre/SoundMapping/Analysis/notebooks/data/'"
   ]
  },
  {
   "cell_type": "code",
   "execution_count": 6,
   "metadata": {},
   "outputs": [
    {
     "ename": "FileNotFoundError",
     "evalue": "[Errno 2] No such file or directory: '/home/ardelalegre/SoundMapping/Analysis/notebooks/data/desk_chair_points.p'",
     "output_type": "error",
     "traceback": [
      "\u001b[0;31m---------------------------------------------------------------------------\u001b[0m",
      "\u001b[0;31mFileNotFoundError\u001b[0m                         Traceback (most recent call last)",
      "\u001b[0;32m<ipython-input-6-9a5cbfe1dbc0>\u001b[0m in \u001b[0;36m<module>\u001b[0;34m\u001b[0m\n\u001b[0;32m----> 1\u001b[0;31m \u001b[0mDOA_points\u001b[0m \u001b[0;34m=\u001b[0m \u001b[0mpickle\u001b[0m\u001b[0;34m.\u001b[0m\u001b[0mload\u001b[0m\u001b[0;34m(\u001b[0m\u001b[0mopen\u001b[0m\u001b[0;34m(\u001b[0m\u001b[0mpwd\u001b[0m\u001b[0;34m+\u001b[0m\u001b[0;34m'desk_chair_points.p'\u001b[0m\u001b[0;34m,\u001b[0m\u001b[0;34m'rb'\u001b[0m\u001b[0;34m)\u001b[0m\u001b[0;34m)\u001b[0m\u001b[0;34m\u001b[0m\u001b[0m\n\u001b[0m\u001b[1;32m      2\u001b[0m \u001b[0mroom_coordinates\u001b[0m \u001b[0;34m=\u001b[0m \u001b[0mpickle\u001b[0m\u001b[0;34m.\u001b[0m\u001b[0mload\u001b[0m\u001b[0;34m(\u001b[0m\u001b[0mopen\u001b[0m\u001b[0;34m(\u001b[0m\u001b[0mpwd\u001b[0m\u001b[0;34m+\u001b[0m\u001b[0;34m'desk_chair_points_room_coordinates.p'\u001b[0m\u001b[0;34m,\u001b[0m\u001b[0;34m'rb'\u001b[0m\u001b[0;34m)\u001b[0m\u001b[0;34m)\u001b[0m\u001b[0;34m\u001b[0m\u001b[0m\n",
      "\u001b[0;31mFileNotFoundError\u001b[0m: [Errno 2] No such file or directory: '/home/ardelalegre/SoundMapping/Analysis/notebooks/data/desk_chair_points.p'"
     ]
    }
   ],
   "source": [
    "DOA_points = pickle.load(open(pwd+'desk_chair_points.p','rb'))\n",
    "room_coordinates = pickle.load(open(pwd+'desk_chair_points_room_coordinates.p','rb'))"
   ]
  },
  {
   "cell_type": "code",
   "execution_count": 7,
   "metadata": {},
   "outputs": [
    {
     "ename": "NameError",
     "evalue": "name 'DOA_points' is not defined",
     "output_type": "error",
     "traceback": [
      "\u001b[0;31m---------------------------------------------------------------------------\u001b[0m",
      "\u001b[0;31mNameError\u001b[0m                                 Traceback (most recent call last)",
      "\u001b[0;32m<ipython-input-7-06a7f3b7cd1d>\u001b[0m in \u001b[0;36m<module>\u001b[0;34m\u001b[0m\n\u001b[0;32m----> 1\u001b[0;31m \u001b[0mB\u001b[0m\u001b[0;34m,\u001b[0m\u001b[0mR_mean\u001b[0m\u001b[0;34m,\u001b[0m\u001b[0mD_mean\u001b[0m\u001b[0;34m,\u001b[0m\u001b[0mD\u001b[0m \u001b[0;34m=\u001b[0m \u001b[0mgenerate_linear_transform_matrix\u001b[0m\u001b[0;34m(\u001b[0m\u001b[0mDOA_points\u001b[0m\u001b[0;34m,\u001b[0m \u001b[0mroom_coordinates\u001b[0m\u001b[0;34m,\u001b[0m \u001b[0;36m3\u001b[0m\u001b[0;34m)\u001b[0m\u001b[0;34m\u001b[0m\u001b[0m\n\u001b[0m",
      "\u001b[0;31mNameError\u001b[0m: name 'DOA_points' is not defined"
     ]
    }
   ],
   "source": [
    "B,R_mean,D_mean,D = generate_linear_transform_matrix(DOA_points, room_coordinates, 3)"
   ]
  },
  {
   "cell_type": "markdown",
   "metadata": {},
   "source": [
    "Linear transform"
   ]
  },
  {
   "cell_type": "code",
   "execution_count": 6,
   "metadata": {},
   "outputs": [],
   "source": [
    "# find displacement of mean in room space\n",
    "R_0 = R_mean-B @ D_mean\n",
    "# affine transform all DOA points\n",
    "r = R_0 + B @ D"
   ]
  },
  {
   "cell_type": "code",
   "execution_count": 7,
   "metadata": {},
   "outputs": [
    {
     "data": {
      "image/png": "[encoded data removed]",
      "text/plain": [
       "<Figure size 540x540 with 1 Axes>"
      ]
     },
     "metadata": {
      "needs_background": "light"
     },
     "output_type": "display_data"
    }
   ],
   "source": [
    "fig = plt.figure(figsize = [7.5,7.5])\n",
    "ax = fig.add_subplot(111)\n",
    "ax.scatter(r[0,:], r[1,:], c = np.arange(r.shape[1]), s = 0.1)\n",
    "ax.set_title(\"Result of Linear Mapping\")\n",
    "ax.set_xlabel(\"X Position (m)\")\n",
    "ax.set_ylabel(\"Y Position (m)\")\n",
    "ax.set_xlim(0,4.385)\n",
    "ax.set_ylim(0,3.918)\n",
    "\n",
    "ax.scatter(room_coordinates[:,0], \n",
    "           room_coordinates[:,1], \n",
    "           c = 'r', \n",
    "           s = 10, \n",
    "           label = 'Original Positions')\n",
    "ax.legend();\n",
    "\n",
    "# ax2 = fig.add_subplot(122)\n",
    "# room_model_chair = plt.imread('../room_model_v4.png')\n",
    "# ax2.imshow(room_model_chair)"
   ]
  },
  {
   "cell_type": "markdown",
   "metadata": {},
   "source": [
    "1. Eigen vectors\n",
    "2. B matrix (2 by 15 contour plots, in Matlab `imagesc()`)\n",
    "3. In the production (loop) figure, include three subplots\n",
    "    - PCA\n",
    "    - Time series\n",
    "    - Linear mapping"
   ]
  },
  {
   "cell_type": "markdown",
   "metadata": {},
   "source": [
    "3D"
   ]
  },
  {
   "cell_type": "code",
   "execution_count": 58,
   "metadata": {},
   "outputs": [],
   "source": [
    "# from mpl_toolkits.mplot3d import Axes3D\n",
    "# %matplotlib notebook"
   ]
  },
  {
   "cell_type": "code",
   "execution_count": 78,
   "metadata": {},
   "outputs": [],
   "source": [
    "# fig = plt.figure(figsize = [7.5,7.5])\n",
    "# ax = fig.add_subplot(111, projection = '3d')\n",
    "# ax.scatter(r[0,:], r[1,:], r[2,:], c = np.arange(r.shape[1]), alpha=0.002)\n",
    "# ax.set_xlim(0,4.385)\n",
    "# ax.set_ylim(0,3.918)\n",
    "# ax.set_zlim(0,2.574) # approximation\n",
    "# ax.set_xlabel('X position (m)')\n",
    "# ax.set_ylabel('Y position (m)')\n",
    "# ax.set_zlabel('Z position (m)')\n",
    "# ax.set_title('Mapping to 3D physical coordinates')\n",
    "\n",
    "# ax.scatter(room_coordinates[:,0], \n",
    "#            room_coordinates[:,1], \n",
    "#            room_coordinates[:,2], \n",
    "#            c = 'r', \n",
    "#            s = 10, \n",
    "#            label = 'Original Positions')\n",
    "# ax.legend();"
   ]
  },
  {
   "cell_type": "code",
   "execution_count": null,
   "metadata": {},
   "outputs": [],
   "source": []
  }
 ],
 "metadata": {
  "kernelspec": {
   "display_name": "Python 3",
   "language": "python",
   "name": "python3"
  },
  "language_info": {
   "codemirror_mode": {
    "name": "ipython",
    "version": 3
   },
   "file_extension": ".py",
   "mimetype": "text/x-python",
   "name": "python",
   "nbconvert_exporter": "python",
   "pygments_lexer": "ipython3",
   "version": "3.5.2"
  }
 },
 "nbformat": 4,
 "nbformat_minor": 4
}
